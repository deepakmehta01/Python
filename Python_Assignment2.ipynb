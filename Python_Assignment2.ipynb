{
 "cells": [
  {
   "cell_type": "markdown",
   "id": "9f4e0953",
   "metadata": {},
   "source": [
    "## Q1]. What are the two values of the Boolean data type? How do you write them?"
   ]
  },
  {
   "cell_type": "markdown",
   "id": "0bff0305",
   "metadata": {},
   "source": [
    "Answer==>\n",
    "    \n",
    "        The two values of a boolean Data Type are 'True' and 'False'. \n",
    "        We can write them insted 'True or False' or '0 or 1'"
   ]
  },
  {
   "cell_type": "markdown",
   "id": "618441c8",
   "metadata": {},
   "source": [
    "# Q2]. What are the three different types of Boolean operators?"
   ]
  },
  {
   "cell_type": "markdown",
   "id": "67b4b8a1",
   "metadata": {},
   "source": [
    "    Answer==>\n",
    "             The three different types of boolean Operators are \n",
    "                AND,OR and NOT"
   ]
  },
  {
   "cell_type": "markdown",
   "id": "17ba13f2",
   "metadata": {},
   "source": [
    "# Q3]. Make a list of each Boolean operator&#39;s truth tables (i.e. every possible combination of Boolean values for the operator and what it evaluate )."
   ]
  },
  {
   "cell_type": "markdown",
   "id": "139b9e58",
   "metadata": {},
   "source": [
    "Answer\n",
    "   ==>\n",
    "#### The truth table of AND       \n",
    "\n",
    "                    a       b    a AND b\n",
    "                    0       0       0 \n",
    "                    0       1       0\n",
    "                    1       0       0\n",
    "                    1       1       1\n",
    "                    \n",
    "#### The truth table of OR       \n",
    "\n",
    "                    a       b    a OR b\n",
    "                    0       0       0 \n",
    "                    0       1       1 \n",
    "                    1       0       1\n",
    "                    1       1       1\n",
    "                    \n",
    "                    \n",
    "#### The truth table of NOT   \n",
    "\n",
    "                    a     NOT a\n",
    "                    0       1                    \n",
    "                    1       0\n",
    "                    "
   ]
  },
  {
   "cell_type": "markdown",
   "id": "416a807e",
   "metadata": {},
   "source": [
    "# Q4] . What are the values of the following expressions?\n",
    "1. (5 &gt; 4) and (3 == 5)\n",
    "2. not (5 &gt; 4)\n",
    "3. (5 &gt; 4) or (3 == 5)\n",
    "4. not ((5 &gt; 4) or (3 == 5))\n",
    "5. (True and True) and (True == False)\n",
    "6. (not False) or (not True)"
   ]
  },
  {
   "cell_type": "markdown",
   "id": "9416449f",
   "metadata": {},
   "source": [
    " Answer ==>        \n",
    "         \n",
    "                =============Expression=============|==========Value=========== \n",
    "                                                    |\n",
    "              1. (5 > 4) and (3 == 5)               |   False\n",
    "                                                    |\n",
    "              2. not (5 > 4)                        |   False\n",
    "                                                    |\n",
    "              3. (5 > 4) or (3 == 5)                |   True\n",
    "                                                    |\n",
    "              4. not ((5 > 4) or (3 == 5))          |   False \n",
    "                                                    |\n",
    "              5. (True and True) and (True == False)|   False\n",
    "                                                    |\n",
    "              6. (not False) or (not True)          |   True\n",
    "                                                    |\n",
    "                                                    "
   ]
  },
  {
   "cell_type": "markdown",
   "id": "8993156c",
   "metadata": {},
   "source": [
    "# 5. What are the six comparison operators?"
   ]
  },
  {
   "cell_type": "markdown",
   "id": "21881d88",
   "metadata": {},
   "source": [
    "Answer==>    \n",
    "        \n",
    "        The six comparision operators are\n",
    "        1. Less than  (<)\n",
    "        2. Grater Than  (>)\n",
    "        3. Less than or Equal to  (<=)\n",
    "        4. Grater than or Equal to (>=)\n",
    "        5. Equal to (==)\n",
    "        6. Not Equal to (!=)"
   ]
  },
  {
   "cell_type": "markdown",
   "id": "b40c2f61",
   "metadata": {},
   "source": [
    "# 6. How do you tell the difference between the equal to and assignment operators?Describe a condition and when you would use one."
   ]
  },
  {
   "cell_type": "markdown",
   "id": "4c5a9e06",
   "metadata": {},
   "source": [
    " Answer==>\n",
    "                \n",
    "                               Assignment Operator (=)     |      Equal to Operator(==)\n",
    "                                                           |\n",
    "         It is used for assigning the value to a variable. | It is used for comparing two values. It returns 1 if both the  \n",
    "                                                           | values are equal otherwise returns 0.\n",
    "                                                           |\n",
    "                                                           |\n",
    "        Constant term cannot be placed on left hand side.  |Constant term can be placed in the left hand side.  \n",
    "        Example: 1=x; is invalid                           |Example: 1==1 is valid and returns 1.       \n",
    "                                                           |\n",
    "                                                           |"
   ]
  },
  {
   "cell_type": "code",
   "execution_count": 1,
   "id": "66d0dc78",
   "metadata": {},
   "outputs": [
    {
     "data": {
      "text/plain": [
       "False"
      ]
     },
     "execution_count": 1,
     "metadata": {},
     "output_type": "execute_result"
    }
   ],
   "source": [
    "a = 1 #assignment operator\n",
    "b = 2\n",
    "a == b #Equal to operator"
   ]
  },
  {
   "cell_type": "markdown",
   "id": "48ce76f3",
   "metadata": {},
   "source": [
    "# Q7]. Identify the three blocks in this code:"
   ]
  },
  {
   "cell_type": "code",
   "execution_count": 2,
   "id": "f7f57231",
   "metadata": {},
   "outputs": [
    {
     "name": "stdout",
     "output_type": "stream",
     "text": [
      "ham\n",
      "spam\n",
      "spam\n"
     ]
    }
   ],
   "source": [
    "# Answer==>\n",
    "\n",
    "spam = 0\n",
    "if spam == 10:\n",
    "    print('eggs') #Block 1\n",
    "if spam > 5:\n",
    "    print('bacon') #Block 2\n",
    "else:\n",
    "    print('ham') #Block 3\n",
    "    print('spam')\n",
    "    print('spam')\n"
   ]
  },
  {
   "cell_type": "markdown",
   "id": "60beaf89",
   "metadata": {},
   "source": [
    "# Q8]. Write code that prints Hello if 1 is stored in spam, prints Howdy if 2 is stored in spam, and prints Greetings! if anything else is stored in spam"
   ]
  },
  {
   "cell_type": "code",
   "execution_count": 3,
   "id": "ee55bd43",
   "metadata": {},
   "outputs": [
    {
     "name": "stdout",
     "output_type": "stream",
     "text": [
      "Greetings!\n"
     ]
    }
   ],
   "source": [
    "spam = 3\n",
    "\n",
    "if spam == 1:\n",
    "    print(\"Hello\")\n",
    "elif spam == 2:\n",
    "    print(\"Howdy\")\n",
    "else:\n",
    "    print(\"Greetings!\")"
   ]
  },
  {
   "cell_type": "markdown",
   "id": "25da809e",
   "metadata": {},
   "source": [
    "# Q9].If your programme is stuck in an endless loop, what keys you’ll press?"
   ]
  },
  {
   "cell_type": "markdown",
   "id": "0c9725c0",
   "metadata": {},
   "source": [
    "Answer==>     \n",
    "If program is stuck in endless loop we will press ctrl+c."
   ]
  },
  {
   "cell_type": "markdown",
   "id": "a70378c1",
   "metadata": {},
   "source": [
    "# Q10]. How can you tell the difference between break and continue?"
   ]
  },
  {
   "cell_type": "markdown",
   "id": "e981240f",
   "metadata": {},
   "source": [
    "Answer==>     \n",
    "The break statement will move the execution outside and just after a loop. \n",
    "The continue statement will move the execution to the start of the loop."
   ]
  },
  {
   "cell_type": "markdown",
   "id": "a6ebcc4e",
   "metadata": {},
   "source": [
    "for i in range(0,10):\n",
    "    print(i)\n",
    "    if i == 5 :\n",
    "        break\n",
    "print(\"The loop is breaked\")   "
   ]
  },
  {
   "cell_type": "code",
   "execution_count": 4,
   "id": "d84a830a",
   "metadata": {},
   "outputs": [
    {
     "name": "stdout",
     "output_type": "stream",
     "text": [
      "0\n",
      "1\n",
      "2\n",
      "3\n",
      "the 4 will be skipped\n",
      "5\n",
      "6\n",
      "7\n",
      "8\n",
      "9\n"
     ]
    }
   ],
   "source": [
    "for i in range(0,10):\n",
    "    if i == 4:\n",
    "        print(\"the 4 will be skipped\")\n",
    "        continue\n",
    "    print(i)    "
   ]
  },
  {
   "cell_type": "markdown",
   "id": "a984a3fd",
   "metadata": {},
   "source": [
    "# Q11]. In a for loop, what is the difference between range(10), range(0, 10), and range(0, 10, 1)?"
   ]
  },
  {
   "cell_type": "markdown",
   "id": "565b93a1",
   "metadata": {},
   "source": [
    "  Answer==>\n",
    "  \n",
    "       The syntax for the range function is :\n",
    "    range(starting pt., ending pt.(excluded), step)\n",
    "    \n",
    "    Thus,\n",
    "    range(10) will give the values starting from 0 to 9\n",
    "    \n",
    "    range(0,10) will give the values starting from 0 to 9\n",
    "    \n",
    "    range(0,10,1) wil give the values starting from 0 to 9\n",
    "    \n",
    "    Overall, all are same as, The parameters starting pt. and the steps are by default 0 and 1"
   ]
  },
  {
   "cell_type": "code",
   "execution_count": 5,
   "id": "1e03fe60",
   "metadata": {},
   "outputs": [
    {
     "name": "stdout",
     "output_type": "stream",
     "text": [
      "0\n",
      "1\n",
      "2\n",
      "3\n",
      "4\n",
      "5\n",
      "6\n",
      "7\n",
      "8\n",
      "9\n"
     ]
    }
   ],
   "source": [
    "for i in range(10):\n",
    "    print(i)"
   ]
  },
  {
   "cell_type": "code",
   "execution_count": 6,
   "id": "8149e4d5",
   "metadata": {},
   "outputs": [
    {
     "name": "stdout",
     "output_type": "stream",
     "text": [
      "0\n",
      "1\n",
      "2\n",
      "3\n",
      "4\n",
      "5\n",
      "6\n",
      "7\n",
      "8\n",
      "9\n"
     ]
    }
   ],
   "source": [
    "for i in range(0,10):\n",
    "    print(i)"
   ]
  },
  {
   "cell_type": "code",
   "execution_count": 7,
   "id": "98bbfd33",
   "metadata": {},
   "outputs": [
    {
     "name": "stdout",
     "output_type": "stream",
     "text": [
      "0\n",
      "1\n",
      "2\n",
      "3\n",
      "4\n",
      "5\n",
      "6\n",
      "7\n",
      "8\n",
      "9\n"
     ]
    }
   ],
   "source": [
    "for i in range(0,10,1):\n",
    "    print(i)"
   ]
  },
  {
   "cell_type": "markdown",
   "id": "9a3f6628",
   "metadata": {},
   "source": [
    "# Q12]. Write a short program that prints the numbers 1 to 10 using a for loop. Then write an equivalent program that prints the numbers 1 to 10 using a while loop"
   ]
  },
  {
   "cell_type": "markdown",
   "id": "e1a40252",
   "metadata": {},
   "source": [
    "Answer==>"
   ]
  },
  {
   "cell_type": "code",
   "execution_count": 8,
   "id": "7d8af59a",
   "metadata": {},
   "outputs": [
    {
     "name": "stdout",
     "output_type": "stream",
     "text": [
      "1\n",
      "2\n",
      "3\n",
      "4\n",
      "5\n",
      "6\n",
      "7\n",
      "8\n",
      "9\n",
      "10\n"
     ]
    }
   ],
   "source": [
    "for i in range(1,11):\n",
    "    print(i)"
   ]
  },
  {
   "cell_type": "code",
   "execution_count": 9,
   "id": "eeec4b03",
   "metadata": {},
   "outputs": [
    {
     "name": "stdout",
     "output_type": "stream",
     "text": [
      "1\n",
      "2\n",
      "3\n",
      "4\n",
      "5\n",
      "6\n",
      "7\n",
      "8\n",
      "9\n",
      "10\n"
     ]
    }
   ],
   "source": [
    "i = 1\n",
    "while i <= 10:\n",
    "    print(i)\n",
    "    i += 1"
   ]
  },
  {
   "cell_type": "markdown",
   "id": "956a7dc5",
   "metadata": {},
   "source": [
    "# Q13]. If you had a function named bacon() inside a module named spam, how would you call it after importing spam?"
   ]
  },
  {
   "cell_type": "markdown",
   "id": "1b72f09b",
   "metadata": {},
   "source": [
    "    Answer==>\n",
    "                    The fuction will be called as spam.bacon()"
   ]
  }
 ],
 "metadata": {
  "kernelspec": {
   "display_name": "Python 3 (ipykernel)",
   "language": "python",
   "name": "python3"
  },
  "language_info": {
   "codemirror_mode": {
    "name": "ipython",
    "version": 3
   },
   "file_extension": ".py",
   "mimetype": "text/x-python",
   "name": "python",
   "nbconvert_exporter": "python",
   "pygments_lexer": "ipython3",
   "version": "3.9.13"
  }
 },
 "nbformat": 4,
 "nbformat_minor": 5
}
