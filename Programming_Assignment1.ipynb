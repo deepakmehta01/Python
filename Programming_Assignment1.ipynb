{
 "cells": [
  {
   "cell_type": "markdown",
   "id": "7a9305a1",
   "metadata": {},
   "source": [
    "# Q1]. Write a Python program to print \"Hello World\"?"
   ]
  },
  {
   "cell_type": "code",
   "execution_count": 1,
   "id": "8d183acf",
   "metadata": {},
   "outputs": [
    {
     "name": "stdout",
     "output_type": "stream",
     "text": [
      "Hello World\n"
     ]
    }
   ],
   "source": [
    "print(\"Hello World\")"
   ]
  },
  {
   "cell_type": "markdown",
   "id": "dc2715c0",
   "metadata": {},
   "source": [
    "# Q2]. Write a Python program to do arithmetical operations addition and division.?"
   ]
  },
  {
   "cell_type": "code",
   "execution_count": 4,
   "id": "0f96677c",
   "metadata": {},
   "outputs": [
    {
     "name": "stdout",
     "output_type": "stream",
     "text": [
      "The Addition of a and b gives :  18\n",
      "The division of a and b gives :  8.0\n"
     ]
    }
   ],
   "source": [
    "a = 16\n",
    "b = 2\n",
    "# addition \n",
    "c = a + b\n",
    "print(\"The Addition of a and b gives : \",c)\n",
    "\n",
    "#division\n",
    "d = a / b\n",
    "print(\"The division of a and b gives : \",d)"
   ]
  },
  {
   "cell_type": "markdown",
   "id": "ce309f89",
   "metadata": {},
   "source": [
    "# Q3]. Write a Python program to find the area of a triangle?"
   ]
  },
  {
   "cell_type": "code",
   "execution_count": 6,
   "id": "b7f8d272",
   "metadata": {},
   "outputs": [
    {
     "name": "stdout",
     "output_type": "stream",
     "text": [
      "Enter the base of the triangle : 3\n",
      "Enter the height of a triangle : 2\n",
      "The area of a traingle is :  3.0\n"
     ]
    }
   ],
   "source": [
    "# as we know area of triangle is 1/2 base * height\n",
    "base = int(input(\"Enter the base of the triangle : \"))\n",
    "height = int(input(\"Enter the height of a triangle : \"))\n",
    "area_of_triangle = (base * height)/2\n",
    "print(\"The area of a traingle is : \", area_of_triangle) "
   ]
  },
  {
   "cell_type": "markdown",
   "id": "932ce778",
   "metadata": {},
   "source": [
    "# Q4]. Write a Python program to swap two variables?"
   ]
  },
  {
   "cell_type": "code",
   "execution_count": 9,
   "id": "14a12b33",
   "metadata": {},
   "outputs": [
    {
     "name": "stdout",
     "output_type": "stream",
     "text": [
      "Enter the first number: 400\n",
      "Enter the second number: 300\n",
      "The values of first variable is :  300\n",
      "The values of second variable is :  400\n"
     ]
    }
   ],
   "source": [
    "# swapping usig a temporary variable\n",
    "a = int(input(\"Enter the first number: \"))\n",
    "b = int(input(\"Enter the second number: \"))\n",
    "c = a   #temporary variable\n",
    "a = b\n",
    "b = c\n",
    "print('The values of first variable is : ', a)\n",
    "print('The values of second variable is : ',b)"
   ]
  },
  {
   "cell_type": "markdown",
   "id": "51e754f4",
   "metadata": {},
   "source": [
    "# Q5]. Write a Python program to generate a random number?"
   ]
  },
  {
   "cell_type": "code",
   "execution_count": 21,
   "id": "3a710c3f",
   "metadata": {},
   "outputs": [],
   "source": [
    "import random"
   ]
  },
  {
   "cell_type": "code",
   "execution_count": 23,
   "id": "13e0933c",
   "metadata": {},
   "outputs": [
    {
     "name": "stdout",
     "output_type": "stream",
     "text": [
      "The random number generated with the given range is :  48\n"
     ]
    }
   ],
   "source": [
    "a = 41\n",
    "b = 99\n",
    "print(\"The random number generated with the given range is : \",random.randint(a,b))"
   ]
  }
 ],
 "metadata": {
  "kernelspec": {
   "display_name": "Python 3 (ipykernel)",
   "language": "python",
   "name": "python3"
  },
  "language_info": {
   "codemirror_mode": {
    "name": "ipython",
    "version": 3
   },
   "file_extension": ".py",
   "mimetype": "text/x-python",
   "name": "python",
   "nbconvert_exporter": "python",
   "pygments_lexer": "ipython3",
   "version": "3.9.13"
  }
 },
 "nbformat": 4,
 "nbformat_minor": 5
}
